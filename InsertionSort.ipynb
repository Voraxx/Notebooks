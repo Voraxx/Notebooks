{
  "nbformat": 4,
  "nbformat_minor": 0,
  "metadata": {
    "colab": {
      "provenance": [],
      "authorship_tag": "ABX9TyNRSu3Kx/17Tz8rfBgabUe1",
      "include_colab_link": true
    },
    "kernelspec": {
      "name": "python3",
      "display_name": "Python 3"
    },
    "language_info": {
      "name": "python"
    }
  },
  "cells": [
    {
      "cell_type": "markdown",
      "metadata": {
        "id": "view-in-github",
        "colab_type": "text"
      },
      "source": [
        "<a href=\"https://colab.research.google.com/github/amaldoror/Notebooks/blob/main/InsertionSort.ipynb\" target=\"_parent\"><img src=\"https://colab.research.google.com/assets/colab-badge.svg\" alt=\"Open In Colab\"/></a>"
      ]
    },
    {
      "cell_type": "markdown",
      "source": [
        "### Insertion Sort\n",
        "\n",
        "Eingabe: V I R E N B E F A L L\n",
        "\n",
        "nach 8 Iterationen: A B E E F I N R V L L"
      ],
      "metadata": {
        "id": "cpfkJc1nSnAk"
      }
    },
    {
      "cell_type": "code",
      "execution_count": 7,
      "metadata": {
        "colab": {
          "base_uri": "https://localhost:8080/"
        },
        "id": "u17xgcBrQubc",
        "outputId": "91d6d8e1-cbc3-45e0-b68b-90ad112db4d0"
      },
      "outputs": [
        {
          "output_type": "stream",
          "name": "stdout",
          "text": [
            "Origin:  ['V', 'I', 'R', 'E', 'N', 'B', 'E', 'F', 'A', 'L', 'L']\n",
            "Step:  1 ['I', 'V', 'R', 'E', 'N', 'B', 'E', 'F', 'A', 'L', 'L']\n",
            "Step:  2 ['I', 'R', 'V', 'E', 'N', 'B', 'E', 'F', 'A', 'L', 'L']\n",
            "Step:  3 ['E', 'I', 'R', 'V', 'N', 'B', 'E', 'F', 'A', 'L', 'L']\n",
            "Step:  4 ['E', 'I', 'N', 'R', 'V', 'B', 'E', 'F', 'A', 'L', 'L']\n",
            "Step:  5 ['B', 'E', 'I', 'N', 'R', 'V', 'E', 'F', 'A', 'L', 'L']\n",
            "Step:  6 ['B', 'E', 'E', 'I', 'N', 'R', 'V', 'F', 'A', 'L', 'L']\n",
            "Step:  7 ['B', 'E', 'E', 'F', 'I', 'N', 'R', 'V', 'A', 'L', 'L']\n",
            "Step:  8 ['A', 'B', 'E', 'E', 'F', 'I', 'N', 'R', 'V', 'L', 'L']\n",
            "Step:  9 ['A', 'B', 'E', 'E', 'F', 'I', 'L', 'N', 'R', 'V', 'L']\n",
            "Step:  10 ['A', 'B', 'E', 'E', 'F', 'I', 'L', 'L', 'N', 'R', 'V']\n",
            "Sorted Array: ['A', 'B', 'E', 'E', 'F', 'I', 'L', 'L', 'N', 'R', 'V']\n"
          ]
        }
      ],
      "source": [
        "def insertion_sort(arr):\n",
        "    for i in range(1, len(arr)):\n",
        "        key = arr[i]\n",
        "        j = i - 1\n",
        "        while j >= 0 and arr[j] > key:\n",
        "            arr[j + 1] = arr[j]\n",
        "            j -= 1\n",
        "        arr[j + 1] = key\n",
        "        print(\"Step: \", i, arr)\n",
        "\n",
        "\n",
        "array = ['V', 'I', 'R', 'E', 'N', 'B', 'E', 'F', 'A', 'L', 'L']\n",
        "\n",
        "print(\"Origin: \", array)\n",
        "insertion_sort(array)\n",
        "print(\"Sorted Array:\", array)"
      ]
    }
  ]
}